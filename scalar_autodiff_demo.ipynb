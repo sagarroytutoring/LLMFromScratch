{
 "cells": [
  {
   "cell_type": "code",
   "execution_count": 1,
   "metadata": {},
   "outputs": [],
   "source": [
    "import warnings\n",
    "warnings.simplefilter(action='ignore', category=FutureWarning)\n",
    "\n",
    "from autodiff import assign, value, d, exp, ln, Variable, Expression, Argument\n",
    "import math\n",
    "from ucimlrepo import fetch_ucirepo\n",
    "import pandas as pd\n",
    "import numpy as np\n",
    "from itertools import batched\n",
    "import matplotlib.pyplot as plt"
   ]
  },
  {
   "cell_type": "markdown",
   "metadata": {},
   "source": [
    "# Demo: Logistic Regression using Scalar Autodiff\n",
    "\n",
    "In this demo, we will make a logistic regression model using just the scalar functionality in the autodiff module.\n",
    "\n",
    "We will start by making the sigmoid function two different ways. Even though the module already has the sigmoid function (under the name \"logistic\"), I will recreate it here for demonstration purposes."
   ]
  },
  {
   "cell_type": "markdown",
   "metadata": {},
   "source": [
    "## Part 1: Making a sigmoid function using existing functionality\n",
    "\n",
    "The sigmoid function can easily be made using existing operations:"
   ]
  },
  {
   "cell_type": "code",
   "execution_count": 2,
   "metadata": {},
   "outputs": [],
   "source": [
    "def naive_sigmoid(arg):\n",
    "    \"\"\"\n",
    "    A Sigmoid function made using the autodiff module\n",
    "    \"\"\"\n",
    "    return 1 / (1 + exp(-arg))"
   ]
  },
  {
   "cell_type": "code",
   "execution_count": 3,
   "metadata": {},
   "outputs": [
    {
     "name": "stdout",
     "output_type": "stream",
     "text": [
      "0.6224593312018546\n",
      "0.2350037122015945\n"
     ]
    }
   ],
   "source": [
    "x = Variable('x')\n",
    "y = naive_sigmoid(x)\n",
    "dydx = d(y, x)\n",
    "with assign(x=0.5):\n",
    "    print(value(y))\n",
    "    print(value(dydx))"
   ]
  },
  {
   "cell_type": "markdown",
   "metadata": {},
   "source": [
    "This works just fine, but ignores one of the biggest benefits of the sigmoid function: the easily calculated derivative. If the above is used, the derivative will be calculated explicitly, i.e. using the formula\n",
    "\n",
    "$$\\frac{d}{dx}\\frac{1}{1+e^{-x}} = -\\left(1+e^{-x}\\right)^{-2} * -e^{-x}$$\n",
    "\n",
    "However, the derivative of the sigmoid function can be stated and calculated much more efficiently in its implicit form:\n",
    "\n",
    "$$\\frac{d}{dx}\\text{sigmoid}(x) = \\text{sigmoid}(x)(1-\\text{sigmoid}(x))$$\n",
    "\n",
    "To take advantage of this, a custom class needs to be made for the sigmoid function where the implicit derivative written can be implemented as a method."
   ]
  },
  {
   "cell_type": "markdown",
   "metadata": {},
   "source": [
    "## Part 2: Making a sigmoid function custom class\n",
    "\n",
    "An example ```Sigmoid``` class is shown below with comments."
   ]
  },
  {
   "cell_type": "code",
   "execution_count": 4,
   "metadata": {},
   "outputs": [],
   "source": [
    "def _sigmoid(x):\n",
    "    \"\"\"\n",
    "    Helper function which implements the sigmoid function\n",
    "    \"\"\"\n",
    "    # Writing such a helper function is not necessary, but it does make the below code a little cleaner.\n",
    "    return 1 / (1 + math.exp(-x))\n",
    "\n",
    "\n",
    "class Sigmoid(Expression):  # Your custom expression class must subclass the \"Expression\" abstract class\n",
    "    \"\"\"\n",
    "    A class which implements the Sigmoid function, AKA the Logistic function.\n",
    "    \"\"\"\n",
    "\n",
    "    # The arguments of the expression need to be declared as class variables, like below\n",
    "    arg = Argument()\n",
    "    \n",
    "    # A constructor does not need to be implemented. By default, the constructor will take in a number of expressions equal to the number of arguments created above.\n",
    "    # So in this example, the Sigmoid class will have one argument, like Sigmoid(x)\n",
    "\n",
    "    # The \"_get_value\" method needs to be implemented for each expression type\n",
    "    def _get_value(self):\n",
    "        # Here, write the value that the expression should have\n",
    "        return _sigmoid(self.arg.val)  # To get the value of any argument, use the \".val\" property\n",
    "    \n",
    "    # For each argument, use the \".derivate\" decorator to register a function that returns the derivative of the expression with respect to the given argument\n",
    "    @arg.derivative\n",
    "    def derivative(self):\n",
    "        # In this case, the derivative of sigmoid(x) with respect to x is sigmoid(x) * (1 - sigmoid(x))\n",
    "        # For implicit derivatives like this, self.val can be used, like below\n",
    "        return self.val * (1 - self.val)\n",
    "    \n",
    "    # The last function that must be implemented the _make_str method, which will be used in the __str__ overload for the expression.\n",
    "    def _make_str(self) -> str:\n",
    "        # This function should return a string representing the expression.\n",
    "        return f\"sigmoid({self.arg._str})\"\n",
    "        # To reference string representations of arguments, use \"._str\" instead of using the \"str\" function directly\n",
    "        # This is because the \"str\" function will add an extra suffix to the representation with the value of the expression.\n",
    "        # For example, if this function returned f\"sigmoid({self.arg})\" by mistake, the expression would look something like:\n",
    "        #   sigmoid(x=1)=0.7310585786300049\n",
    "        # instead of\n",
    "        #   sigmoid(x)=0.7310585786300049\n",
    "\n",
    "\n",
    "# I also recommend writing a global function to more easily use the custom class on expressions and also have a handy sigmoid function for use on regular numerical data\n",
    "def sigmoid(arg):\n",
    "    return Sigmoid(arg) if isinstance(arg, Expression) else _sigmoid(arg)"
   ]
  },
  {
   "cell_type": "markdown",
   "metadata": {},
   "source": [
    "# Part 3: Using the sigmoid class to create and train a logistic regression model\n",
    "\n",
    "Now that the sigmoid function is implemented, it can be used to create a logistic regression model. First, we obtain some data, courtesy of UCI, and prepare it for use."
   ]
  },
  {
   "cell_type": "code",
   "execution_count": 5,
   "metadata": {},
   "outputs": [],
   "source": [
    "heart_disease = fetch_ucirepo(id=45)\n",
    "X: pd.DataFrame = heart_disease.data.features\n",
    "y: pd.Series = heart_disease.data.targets\n",
    "\n",
    "# Drop rows with na's\n",
    "incomplete_rows = X.isna().any(axis=1)\n",
    "X = X[~incomplete_rows]\n",
    "y = y[~incomplete_rows]\n",
    "\n",
    "# One hot encoding the multinomial categorical features\n",
    "var_data: pd.DataFrame = heart_disease.variables\n",
    "categorical = var_data[var_data['type'] == 'Categorical']['name']\n",
    "multinomial = [col for col in categorical if X[col].nunique() > 2]\n",
    "X_ohe = pd.get_dummies(data=X, columns=multinomial)\n",
    "\n",
    "# Standard scaling all the columns\n",
    "X_scaled = (X_ohe - X_ohe.mean()) / X_ohe.std()\n",
    "\n",
    "# Adding a column for the bias\n",
    "X_scaled['bias'] = 1\n",
    "\n",
    "# Turning y binary based on presence or absence of heart disease\n",
    "y_bin = y['num'].astype(bool)"
   ]
  },
  {
   "cell_type": "code",
   "execution_count": 6,
   "metadata": {},
   "outputs": [],
   "source": [
    "# Do a train-test split\n",
    "rng = np.random.default_rng(seed=0)\n",
    "\n",
    "# Start by shuffling idxs\n",
    "permutation = rng.permutation(len(X))\n",
    "\n",
    "# Then choose 80% of those to be in training\n",
    "train_prop = 0.8\n",
    "train_size = int(train_prop * len(X))\n",
    "\n",
    "choices = np.zeros((len(X),))\n",
    "train_idxs = permutation[:train_size]\n",
    "test_idxs = permutation[train_size:]\n",
    "\n",
    "X_train = X_scaled.iloc[train_idxs]\n",
    "X_test = X_scaled.iloc[test_idxs]\n",
    "y_train = y_bin.iloc[train_idxs]\n",
    "y_test = y_bin.iloc[test_idxs]"
   ]
  },
  {
   "cell_type": "markdown",
   "metadata": {},
   "source": [
    "Then we can make a class for the logistic regression model"
   ]
  },
  {
   "cell_type": "code",
   "execution_count": 7,
   "metadata": {},
   "outputs": [],
   "source": [
    "class LogisticRegressor:\n",
    "    \"\"\"\n",
    "    Logistic regression model\n",
    "    Not implemented efficiently because it uses backprop to calculate the gradient\n",
    "    This is for demonstration purposes\n",
    "    \"\"\"\n",
    "\n",
    "    def __init__(self, epochs=100, batch_size=20, learning_rate=0.1, seed=0, convergence_threshold=1e-3):\n",
    "        \"\"\"\n",
    "        Parameters:\n",
    "        - epochs (int): Number of epochs to use in training\n",
    "        - batch size (int): minibatch size for gradient descent\n",
    "        - learning rate (float): learning rate for gradient descent\n",
    "        - seed (int): rng seed for constructing minibatches\n",
    "        - convergence threshold (float): if the L2 norm of the gradient is less than this threshold, the training can end early\n",
    "        \"\"\"\n",
    "\n",
    "        # Store hyperparams\n",
    "        self._epochs = epochs\n",
    "        self._batch_size = batch_size\n",
    "        self._learning_rate = learning_rate\n",
    "        self._rng = np.random.default_rng(seed=seed)\n",
    "        self._convergence_thresh = convergence_threshold\n",
    "\n",
    "        # Make attrs to hold variables\n",
    "        self._vars = []\n",
    "        self._target_var = Variable('target')\n",
    "        self._weight_vars = []\n",
    "\n",
    "        # Make list to hold weights\n",
    "        self._weights = []\n",
    "\n",
    "        # Make attrs for linear combination and the final prediction after applying sigmoid to linear prediction\n",
    "        self._linear = None\n",
    "        self._pred_exp = None\n",
    "\n",
    "    def fit(self, data: pd.DataFrame, target: pd.Series):\n",
    "        # initialize all variables and expressions for autodiff\n",
    "        self._vars = [Variable(f'x_{col}') for col in data.columns]\n",
    "        self._weight_vars = [Variable(f'w_{col}') for col in data.columns]\n",
    "        self._linear = sum(weight * var for weight, var in zip(self._vars, self._weight_vars))\n",
    "        self._pred_exp = Sigmoid(self._linear)\n",
    "\n",
    "        # initialize weights to 1\n",
    "        self._weights = [1] * len(data.columns)\n",
    "\n",
    "        # The log likelihood formula for logistic regression can be greatly simplified for efficiency\n",
    "        # but for this demo I will show that autodiff can find it \"the hard way\"\n",
    "        ll_exp = self._target_var * ln(self._pred_exp) + (1 - self._target_var) * ln(1 - self._pred_exp)\n",
    "        derivs = [d(ll_exp, weight) for weight in self._weight_vars]\n",
    "\n",
    "        # Do the training using gradient ascent\n",
    "        # Store average log likelihood for each epoch\n",
    "        loglikelies = []\n",
    "\n",
    "        # Loop through epochs\n",
    "        for _ in range(self._epochs):\n",
    "\n",
    "            # Store all log likelihoos for this epoch to average them later\n",
    "            epoch_lls = []\n",
    "\n",
    "            # Make permutation of the data for minibatches\n",
    "            perm = self._rng.permutation(len(data))\n",
    "\n",
    "            # Loop through batches\n",
    "            for batch_idxs in batched(perm, n=self._batch_size):\n",
    "\n",
    "                # This list will store the gradient at the end\n",
    "                gradient = [0 for weight in self._weights]\n",
    "\n",
    "                # loop through batch\n",
    "                for idx in batch_idxs:\n",
    "                    # Assign input, weights, and target value\n",
    "                    assignments = (\n",
    "                        {f\"x_{col}\": val for col, val in data.iloc[idx].to_dict().items()}\n",
    "                        | {f\"w_{col}\": weight for col, weight in zip(data.columns, self._weights)}\n",
    "                        | {'target': target.iloc[idx]}\n",
    "                    )\n",
    "                    with assign(**assignments):\n",
    "                        # Find gradient using LL expression\n",
    "                        try:\n",
    "                            epoch_lls.append(value(ll_exp))\n",
    "                            deriv_vals = [value(deriv) for deriv in derivs]\n",
    "                            gradient = [grad + update for grad, update in zip(gradient, deriv_vals)]\n",
    "                        \n",
    "                        # If there is an domain or overflow error, throw away the datapoint\n",
    "                        except ValueError:\n",
    "                            pass\n",
    "                        except OverflowError:\n",
    "                            pass\n",
    "\n",
    "                # Average batch gradient\n",
    "                gradient = [grad / len(gradient) for grad in gradient]\n",
    "\n",
    "                # If the L2 norm of the gradient is below the threshold, end training\n",
    "                if sum(grad**2 for grad in gradient)**0.5 < self._convergence_thresh:\n",
    "                    break\n",
    "\n",
    "                # Update weights\n",
    "                self._weights = [weight + self._learning_rate * grad for weight, grad in zip(self._weights, gradient)]\n",
    "            \n",
    "            # Average epoch log likelihoods\n",
    "            loglikelies.append(sum(epoch_lls) / len(epoch_lls))\n",
    "        \n",
    "        return loglikelies\n",
    "\n",
    "    def predict(self, data: pd.DataFrame):\n",
    "        # This will store the predictions\n",
    "        preds = []\n",
    "\n",
    "        # Loop through input rows\n",
    "        for _, row in data.iterrows():\n",
    "            # Assign all inputs and weights\n",
    "            assignments = (\n",
    "                {f\"x_{col}\": val for col, val in row.to_dict().items()}\n",
    "                | {f\"w_{col}\": weight for col, weight in zip(data.columns, self._weights)}\n",
    "            )\n",
    "            with assign(**assignments):\n",
    "                # Calculate prediction probability\n",
    "                try:\n",
    "                    pred_prob = value(self._pred_exp)\n",
    "                # If there is an overflow error with the prediction prob, just use the sign of the linear part as a backup\n",
    "                except OverflowError:\n",
    "                    pred_prob = int(value(self._linear) > 0)\n",
    "                preds.append(pred_prob)\n",
    "        return preds\n"
   ]
  },
  {
   "cell_type": "markdown",
   "metadata": {},
   "source": [
    "Now that the class is created, we can use it to make a regressor and gather metrics on the training process."
   ]
  },
  {
   "cell_type": "code",
   "execution_count": 8,
   "metadata": {},
   "outputs": [],
   "source": [
    "regressor = LogisticRegressor(epochs=50, learning_rate=0.1)\n",
    "loglikelies = regressor.fit(X_train, y_train)"
   ]
  },
  {
   "cell_type": "code",
   "execution_count": 9,
   "metadata": {},
   "outputs": [
    {
     "data": {
      "text/plain": [
       "[<matplotlib.lines.Line2D at 0x22a809f3f50>]"
      ]
     },
     "execution_count": 9,
     "metadata": {},
     "output_type": "execute_result"
    },
    {
     "data": {
      "image/png": "[encoded data removed]",
      "text/plain": [
       "<Figure size 640x480 with 1 Axes>"
      ]
     },
     "metadata": {},
     "output_type": "display_data"
    }
   ],
   "source": [
    "plt.plot(loglikelies)"
   ]
  },
  {
   "cell_type": "markdown",
   "metadata": {},
   "source": [
    "We can use the testing data to gather metrics on the resulting model."
   ]
  },
  {
   "cell_type": "code",
   "execution_count": 10,
   "metadata": {},
   "outputs": [],
   "source": [
    "pred_probs = regressor.predict(X_test)\n",
    "thresh = 0.5\n",
    "preds = [int(prob > thresh) for prob in pred_probs]\n",
    "rights = [pred == ans for pred, ans in zip(preds, y_test)]"
   ]
  },
  {
   "cell_type": "code",
   "execution_count": 11,
   "metadata": {},
   "outputs": [
    {
     "name": "stdout",
     "output_type": "stream",
     "text": [
      "Testing accuracy: 0.8333333333333334\n"
     ]
    }
   ],
   "source": [
    "print(f\"Testing accuracy: {sum(rights) / len(rights)}\")"
   ]
  },
  {
   "cell_type": "markdown",
   "metadata": {},
   "source": [
    "# "
   ]
  }
 ],
 "metadata": {
  "kernelspec": {
   "display_name": ".venv",
   "language": "python",
   "name": "python3"
  },
  "language_info": {
   "codemirror_mode": {
    "name": "ipython",
    "version": 3
   },
   "file_extension": ".py",
   "mimetype": "text/x-python",
   "name": "python",
   "nbconvert_exporter": "python",
   "pygments_lexer": "ipython3",
   "version": "3.12.0"
  }
 },
 "nbformat": 4,
 "nbformat_minor": 2
}
